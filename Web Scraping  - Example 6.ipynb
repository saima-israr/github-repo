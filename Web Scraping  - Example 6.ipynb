{
 "cells": [
  {
   "cell_type": "code",
   "execution_count": 8,
   "metadata": {},
   "outputs": [
    {
     "name": "stdout",
     "output_type": "stream",
     "text": [
      "200\n",
      "Short Interest Tracker - Login\n"
     ]
    },
    {
     "ename": "AttributeError",
     "evalue": "'NoneType' object has no attribute 'tbody'",
     "output_type": "error",
     "traceback": [
      "\u001b[1;31m---------------------------------------------------------------------------\u001b[0m",
      "\u001b[1;31mAttributeError\u001b[0m                            Traceback (most recent call last)",
      "\u001b[1;32m<ipython-input-8-25d533ee6f8a>\u001b[0m in \u001b[0;36m<module>\u001b[1;34m\u001b[0m\n\u001b[0;32m     25\u001b[0m \u001b[0mcompany_list\u001b[0m \u001b[1;33m=\u001b[0m \u001b[1;33m{\u001b[0m\u001b[1;33m}\u001b[0m\u001b[1;33m\u001b[0m\u001b[1;33m\u001b[0m\u001b[0m\n\u001b[0;32m     26\u001b[0m \u001b[0mwatchlist_table\u001b[0m \u001b[1;33m=\u001b[0m \u001b[0msoup\u001b[0m\u001b[1;33m.\u001b[0m\u001b[0mfind\u001b[0m\u001b[1;33m(\u001b[0m\u001b[1;34m'table'\u001b[0m\u001b[1;33m,\u001b[0m \u001b[0mid\u001b[0m\u001b[1;33m=\u001b[0m\u001b[1;34m'companies'\u001b[0m\u001b[1;33m)\u001b[0m\u001b[1;33m\u001b[0m\u001b[1;33m\u001b[0m\u001b[0m\n\u001b[1;32m---> 27\u001b[1;33m \u001b[0mwatchlist_table_data\u001b[0m \u001b[1;33m=\u001b[0m \u001b[0mwatchlist_table\u001b[0m\u001b[1;33m.\u001b[0m\u001b[0mtbody\u001b[0m\u001b[1;33m.\u001b[0m\u001b[0mfind_all\u001b[0m\u001b[1;33m(\u001b[0m\u001b[1;34m\"a\"\u001b[0m\u001b[1;33m)\u001b[0m\u001b[1;33m\u001b[0m\u001b[1;33m\u001b[0m\u001b[0m\n\u001b[0m\u001b[0;32m     28\u001b[0m \u001b[1;32mfor\u001b[0m \u001b[0mitem\u001b[0m \u001b[1;32min\u001b[0m \u001b[0mwatchlist_table_data\u001b[0m\u001b[1;33m:\u001b[0m\u001b[1;33m\u001b[0m\u001b[1;33m\u001b[0m\u001b[0m\n\u001b[0;32m     29\u001b[0m     \u001b[0mcompany_name\u001b[0m \u001b[1;33m=\u001b[0m \u001b[0mitem\u001b[0m\u001b[1;33m.\u001b[0m\u001b[0mtext\u001b[0m\u001b[1;33m\u001b[0m\u001b[1;33m\u001b[0m\u001b[0m\n",
      "\u001b[1;31mAttributeError\u001b[0m: 'NoneType' object has no attribute 'tbody'"
     ]
    }
   ],
   "source": [
    "from bs4 import BeautifulSoup\n",
    "import requests\n",
    "import pandas as pd\n",
    "\n",
    "url = 'https://shorttracker.co.uk/'\n",
    "login_url = 'accounts/login/'\n",
    "\n",
    "header = {'User-Agent': 'Mozilla/5.0 (Linux; Android 6.0; Nexus 5 Build/MRA58N) AppleWebKit/537.36 (KHTML, like Gecko) Chrome/86.0.4240.111 Mobile Safari/537.36', 'origin': url, 'referer': url + login_url}\n",
    "\n",
    "s = requests.session()\n",
    "csrf_token = s.get(url).cookies['csrftoken']\n",
    "\n",
    "login_payload = {\n",
    "        'login': 'danarms.2421@gmail.com',\n",
    "        'password': 'armstrong@12', \n",
    "        'csrfmiddlewaretoken': csrf_token\n",
    "        }\n",
    "login_req = s.post(url + login_url, headers=header, data=login_payload)\n",
    "cookies = login_req.cookies\n",
    "print(login_req.status_code)\n",
    "soup = BeautifulSoup(s.get(url + 'watchlist').text, 'html.parser')\n",
    "print(soup.title.text)\n",
    "\n",
    "company_count = 0\n",
    "company_list = {}\n",
    "watchlist_table = soup.find('table', id='companies')\n",
    "watchlist_table_data = watchlist_table.tbody.find_all(\"a\")\n",
    "for item in watchlist_table_data:\n",
    "    company_name = item.text\n",
    "    company_url = item.get('href')\n",
    "    if company_url=='#':\n",
    "        pass\n",
    "    else:\n",
    "        company_url = 'https://shorttracker.co.uk' +company_url\n",
    "        company_list[company_count] = [company_name, company_url]\n",
    "        company_count+=1\n",
    "\n",
    "print('Total Comapinies in Watchlist:',company_count)\n",
    "company_list_df = pd.DataFrame.from_dict(company_list, orient = 'index', columns = ['Comapny Name', 'Company URL'])\n",
    "company_list_df"
   ]
  },
  {
   "cell_type": "code",
   "execution_count": null,
   "metadata": {},
   "outputs": [],
   "source": []
  }
 ],
 "metadata": {
  "kernelspec": {
   "display_name": "Python 3",
   "language": "python",
   "name": "python3"
  },
  "language_info": {
   "codemirror_mode": {
    "name": "ipython",
    "version": 3
   },
   "file_extension": ".py",
   "mimetype": "text/x-python",
   "name": "python",
   "nbconvert_exporter": "python",
   "pygments_lexer": "ipython3",
   "version": "3.8.3"
  }
 },
 "nbformat": 4,
 "nbformat_minor": 4
}
